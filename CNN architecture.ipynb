{
 "cells": [
  {
   "cell_type": "code",
   "execution_count": 2,
   "metadata": {},
   "outputs": [
    {
     "name": "stderr",
     "output_type": "stream",
     "text": [
      "Failed to detect the name of this notebook, you can set it manually with the WANDB_NOTEBOOK_NAME environment variable to enable code saving.\n",
      "\u001b[34m\u001b[1mwandb\u001b[0m: Currently logged in as: \u001b[33mahmedayman\u001b[0m. Use \u001b[1m`wandb login --relogin`\u001b[0m to force relogin\n"
     ]
    },
    {
     "data": {
      "text/html": [
       "Tracking run with wandb version 0.13.4"
      ],
      "text/plain": [
       "<IPython.core.display.HTML object>"
      ]
     },
     "metadata": {},
     "output_type": "display_data"
    },
    {
     "data": {
      "text/html": [
       "Run data is saved locally in <code>c:\\Users\\Ahmed\\Desktop\\AHW\\Final AHW ML Model\\wandb\\run-20221018_160531-5rldhh6b</code>"
      ],
      "text/plain": [
       "<IPython.core.display.HTML object>"
      ]
     },
     "metadata": {},
     "output_type": "display_data"
    },
    {
     "data": {
      "text/html": [
       "Syncing run <strong><a href=\"https://wandb.ai/ahmedayman/AHW-CNN%20architecture/runs/5rldhh6b\" target=\"_blank\">sleek-fog-11</a></strong> to <a href=\"https://wandb.ai/ahmedayman/AHW-CNN%20architecture\" target=\"_blank\">Weights & Biases</a> (<a href=\"https://wandb.me/run\" target=\"_blank\">docs</a>)<br/>"
      ],
      "text/plain": [
       "<IPython.core.display.HTML object>"
      ]
     },
     "metadata": {},
     "output_type": "display_data"
    }
   ],
   "source": [
    "import os\n",
    "import math\n",
    "import random\n",
    "import numpy as np\n",
    "import pandas as pd\n",
    "import tensorflow as tf\n",
    "\n",
    "import wandb\n",
    "wandb.login()\n",
    "from wandb.keras import WandbCallback\n",
    "wandb.init(project=\"AHW-CNN architecture\")\n",
    "\n",
    "import keras\n",
    "from keras.preprocessing.image import ImageDataGenerator\n",
    "from keras.callbacks import EarlyStopping, ReduceLROnPlateau\n",
    "from keras.models import Sequential\n",
    "from keras.layers import Dense,Flatten,MaxPooling2D,Conv2D,Dropout,Activation,BatchNormalization\n",
    "\n",
    "from keras.utils import np_utils\n",
    "from keras.utils.np_utils import to_categorical\n",
    "\n",
    "import seaborn as sns\n",
    "import matplotlib.pyplot as plt\n",
    "from IPython.display import Image, display\n",
    "from sklearn.cluster import KMeans\n",
    "from sklearn.utils import shuffle\n",
    "from sklearn.metrics import classification_report\n",
    "from sklearn.linear_model import LogisticRegression\n",
    "from sklearn.experimental import enable_halving_search_cv\n",
    "from sklearn.model_selection import train_test_split, GridSearchCV, HalvingGridSearchCV\n",
    "from sklearn.pipeline import Pipeline\n",
    "from sklearn.preprocessing import StandardScaler\n",
    "from sklearn.decomposition import PCA, NMF, FactorAnalysis"
   ]
  },
  {
   "cell_type": "code",
   "execution_count": 48,
   "metadata": {},
   "outputs": [],
   "source": [
    "# arabic_chars =list('ابتثجحخدذرزسشصضطظعغفقكلمنهوي')\n",
    "# arabic_chars"
   ]
  },
  {
   "cell_type": "code",
   "execution_count": 9,
   "metadata": {},
   "outputs": [],
   "source": [
    "x_train = pd.read_csv(\"./csvTrainImages 13440x1024.csv\",header=None).to_numpy()\n",
    "y_train = pd.read_csv(\"./csvTrainLabel 13440x1.csv\",header=None).to_numpy()-1 \n",
    "\n",
    "x_test = pd.read_csv(\"./csvTestImages 3360x1024.csv\",header=None).to_numpy()\n",
    "y_test = pd.read_csv(\"./csvTestLabel 3360x1.csv\",header=None).to_numpy()-1\n",
    "\n",
    "# print(\"x_train.shape =\", x_train.shape)\n",
    "# print(\"y_train.shape =\", y_train.shape)\n",
    "# print(\"x_test.shape =\", x_test.shape)\n",
    "# print(\"y_test.shape =\", y_test.shape)"
   ]
  },
  {
   "cell_type": "code",
   "execution_count": 10,
   "metadata": {},
   "outputs": [
    {
     "name": "stdout",
     "output_type": "stream",
     "text": [
      "(16800, 32, 32) (16800, 1)\n",
      "(16800, 32, 32, 1) (16800,)\n"
     ]
    }
   ],
   "source": [
    "x_train = x_train.reshape(-1,32,32)\n",
    "x_test = x_test.reshape(-1,32,32)\n",
    "x_train = x_train/255\n",
    "x_test = x_test/255\n",
    "\n",
    "x_train = np.array([image.T for image in x_train])\n",
    "x_test = np.array([image.T for image in x_test])\n",
    "\n",
    "x_train, y_train = shuffle(x_train, y_train)\n",
    "x_test, y_test = shuffle(x_test, y_test)\n",
    "\n",
    "\n",
    "letter_data = np.concatenate((x_train, x_test))\n",
    "letter_labels = np.concatenate((y_train, y_test))\n",
    "\n",
    "print(letter_data.shape, letter_labels.shape)\n",
    "\n",
    "letter_data = letter_data.reshape(-1,32,32, 1)\n",
    "letter_labels = letter_labels.reshape(-1)\n",
    "\n",
    "print(letter_data.shape, letter_labels.shape)"
   ]
  },
  {
   "cell_type": "code",
   "execution_count": 51,
   "metadata": {},
   "outputs": [],
   "source": [
    "# ra = np.random.randint(0, 13440, size=25)\n",
    "# plt.figure(figsize=(10,10))\n",
    "# for i in range(25):\n",
    "#     plt.subplot(5,5,i+1)\n",
    "#     plt.xticks([])\n",
    "#     plt.yticks([])\n",
    "#     plt.imshow(x_train[ra[i]].reshape(32,32),\"gray\")\n",
    "#     plt.title(arabic_chars[int(y_train[ra[i]][0])], fontsize = 20)\n",
    "# plt.show()"
   ]
  },
  {
   "cell_type": "code",
   "execution_count": 11,
   "metadata": {},
   "outputs": [],
   "source": [
    "train_data, test_data, train_labels, test_labels = train_test_split(letter_data, letter_labels, test_size=0.2)"
   ]
  },
  {
   "cell_type": "code",
   "execution_count": 53,
   "metadata": {},
   "outputs": [],
   "source": [
    "# print(train_data.shape, train_labels.shape)\n",
    "# print(test_data.shape, test_labels.shape)"
   ]
  },
  {
   "cell_type": "code",
   "execution_count": 12,
   "metadata": {},
   "outputs": [],
   "source": [
    "train_data = train_data / 255.0\n",
    "test_data = test_data / 255.0\n",
    "\n",
    "train_labels = np_utils.to_categorical(train_labels)\n",
    "test_labels = np_utils.to_categorical(test_labels)"
   ]
  },
  {
   "cell_type": "code",
   "execution_count": 55,
   "metadata": {},
   "outputs": [],
   "source": [
    "# print(train_data.shape, test_data.shape)\n",
    "# print(train_labels.shape, test_labels.shape)"
   ]
  },
  {
   "cell_type": "code",
   "execution_count": 13,
   "metadata": {},
   "outputs": [],
   "source": [
    "train_label_counts = [0 for i in range(36)]\n",
    "test_label_counts = [0 for i in range(36)]\n",
    "\n",
    "for i in range(train_data.shape[0]):\n",
    "  train_label_counts[np.argmax(train_labels[i])] += 1\n",
    "\n",
    "for i in range(test_data.shape[0]):\n",
    "  test_label_counts[np.argmax(test_labels[i])] += 1"
   ]
  },
  {
   "cell_type": "code",
   "execution_count": 57,
   "metadata": {},
   "outputs": [],
   "source": [
    "# shuffled_data = shuffle(letter_data)\n",
    "# rows, cols = 10, 10\n",
    "\n",
    "# plt.figure(figsize=(20, 20))\n",
    "\n",
    "# for i in range(rows * cols):\n",
    "#   plt.subplot(cols, rows, i+1)\n",
    "#   plt.imshow(shuffled_data[i].reshape(32, 32), interpolation=\"nearest\", cmap=\"gray\")\n",
    "\n",
    "# plt.show()"
   ]
  },
  {
   "cell_type": "code",
   "execution_count": 58,
   "metadata": {},
   "outputs": [],
   "source": [
    "\n",
    "# train_datagen=ImageDataGenerator(\n",
    "#     #rescale=1/255, # Normalize the new images\n",
    "#     zoom_range=0.2, #the amount of zooming u need\n",
    "#     width_shift_range=0.10, # The percentage of Width shifitning\n",
    "#     height_shift_range=0.10, # The percentage of height shifitning\n",
    "#     shear_range=0.1, #Shear angle in counter-clockwise direction in degrees\n",
    "#     fill_mode='nearest',\n",
    "#     rotation_range=20, \n",
    "# )\n",
    "# train_generator=train_datagen.flow(\n",
    "#     x_train ,y_train ,batch_size=64\n",
    "# )\n",
    "\n",
    "# test_datagen=ImageDataGenerator()\n",
    "# test_generator=test_datagen.flow(\n",
    "#     x_test ,y_test ,batch_size=64\n",
    " \n",
    "# )"
   ]
  },
  {
   "cell_type": "code",
   "execution_count": 59,
   "metadata": {},
   "outputs": [],
   "source": [
    "earlystop = EarlyStopping(patience=6)\n",
    "learning_rate_reduction=ReduceLROnPlateau(\n",
    "    monitor='val_accuracy',\n",
    "    patience= 3,\n",
    "    verbose=1,\n",
    ")\n",
    "callbacks = [earlystop, learning_rate_reduction]"
   ]
  },
  {
   "cell_type": "code",
   "execution_count": 6,
   "metadata": {},
   "outputs": [
    {
     "name": "stdout",
     "output_type": "stream",
     "text": [
      "Model: \"sequential\"\n",
      "_________________________________________________________________\n",
      " Layer (type)                Output Shape              Param #   \n",
      "=================================================================\n",
      " conv2d (Conv2D)             (None, 28, 28, 80)        2080      \n",
      "                                                                 \n",
      " batch_normalization (BatchN  (None, 28, 28, 80)       320       \n",
      " ormalization)                                                   \n",
      "                                                                 \n",
      " conv2d_1 (Conv2D)           (None, 24, 24, 64)        128064    \n",
      "                                                                 \n",
      " batch_normalization_1 (Batc  (None, 24, 24, 64)       256       \n",
      " hNormalization)                                                 \n",
      "                                                                 \n",
      " max_pooling2d (MaxPooling2D  (None, 12, 12, 64)       0         \n",
      " )                                                               \n",
      "                                                                 \n",
      " dropout (Dropout)           (None, 12, 12, 64)        0         \n",
      "                                                                 \n",
      " batch_normalization_2 (Batc  (None, 12, 12, 64)       256       \n",
      " hNormalization)                                                 \n",
      "                                                                 \n",
      " flatten (Flatten)           (None, 9216)              0         \n",
      "                                                                 \n",
      " dense (Dense)               (None, 256)               2359552   \n",
      "                                                                 \n",
      " dense_1 (Dense)             (None, 28)                7196      \n",
      "                                                                 \n",
      "=================================================================\n",
      "Total params: 2,497,724\n",
      "Trainable params: 2,497,308\n",
      "Non-trainable params: 416\n",
      "_________________________________________________________________\n"
     ]
    }
   ],
   "source": [
    "model = Sequential()\n",
    "\n",
    "model.add(Conv2D(80, (5, 5), input_shape=(32, 32, 1), activation=\"relu\"))\n",
    "model.add(BatchNormalization())\n",
    "\n",
    "model.add(Conv2D(64, (5, 5), activation=\"relu\"))\n",
    "model.add(BatchNormalization())\n",
    "model.add(MaxPooling2D(2, 2))\n",
    "model.add(Dropout(0.25))\n",
    "\n",
    "model.add(BatchNormalization())\n",
    "model.add(Flatten())\n",
    "\n",
    "model.add(Dense(256, activation=\"relu\"))\n",
    "model.add(Dense(28, activation=\"softmax\"))\n",
    "\n",
    "model.compile(loss=\"categorical_crossentropy\", optimizer=\"adam\", metrics=[\"accuracy\"])\n",
    "model.summary()\n",
    "\n",
    "\n",
    "\n",
    "\n",
    "# model=Sequential() \n",
    "\n",
    "# model.add(Conv2D(80,(5,5),activation='relu',input_shape=(32,32,1)))\n",
    "# model.add(MaxPooling2D(2,2))\n",
    "# model.add(Conv2D(64,(5,5),activation='relu'))\n",
    "# model.add(MaxPooling2D(2,2))\n",
    "# model.add(Flatten())\n",
    "# model.add(Dense(1024,activation='relu', name='featurs'))\n",
    "# #model.add(Dropout(0.5))\n",
    "# model.add(Dense(28, kernel_regularizer=keras.regularizers.l2(0.01) ,activation='softmax'))\n",
    "# model.compile(optimizer= 'adam' ,loss='sparse_categorical_crossentropy',metrics=['accuracy'])\n",
    "# model.summary()\n",
    "\n"
   ]
  },
  {
   "cell_type": "code",
   "execution_count": 61,
   "metadata": {},
   "outputs": [],
   "source": [
    "from keras.callbacks import ModelCheckpoint\n",
    "best_loss_checkpoint = ModelCheckpoint(\n",
    "    filepath=\"./models/best_loss_model.h5\",\n",
    "    monitor=\"loss\",\n",
    "    save_best_only=True,\n",
    "    save_weights_only=True,\n",
    "    mode=\"min\"\n",
    ")\n",
    "\n",
    "best_val_loss_checkpoint = ModelCheckpoint(\n",
    "    filepath=\"./models/best_val_loss_model.h5\",\n",
    "    monitor=\"val_loss\",\n",
    "    save_best_only=True,\n",
    "    save_weights_only=True,\n",
    "    mode=\"min\"\n",
    ")"
   ]
  },
  {
   "cell_type": "code",
   "execution_count": 62,
   "metadata": {},
   "outputs": [
    {
     "name": "stdout",
     "output_type": "stream",
     "text": [
      "Epoch 1/50\n",
      "672/672 [==============================] - ETA: 0s - loss: 1.4816 - accuracy: 0.5458"
     ]
    },
    {
     "name": "stderr",
     "output_type": "stream",
     "text": [
      "WARNING:absl:Found untraced functions such as _jit_compiled_convolution_op, _jit_compiled_convolution_op while saving (showing 2 of 2). These functions will not be directly callable after loading.\n"
     ]
    },
    {
     "name": "stdout",
     "output_type": "stream",
     "text": [
      "INFO:tensorflow:Assets written to: c:\\Users\\Ahmed\\Desktop\\AHW\\Final AHW ML Model\\wandb\\run-20221018_091156-zcrciv0a\\files\\model-best\\assets\n"
     ]
    },
    {
     "name": "stderr",
     "output_type": "stream",
     "text": [
      "INFO:tensorflow:Assets written to: c:\\Users\\Ahmed\\Desktop\\AHW\\Final AHW ML Model\\wandb\\run-20221018_091156-zcrciv0a\\files\\model-best\\assets\n",
      "\u001b[34m\u001b[1mwandb\u001b[0m: Adding directory to artifact (c:\\Users\\Ahmed\\Desktop\\AHW\\Final AHW ML Model\\wandb\\run-20221018_091156-zcrciv0a\\files\\model-best)... Done. 0.2s\n"
     ]
    },
    {
     "name": "stdout",
     "output_type": "stream",
     "text": [
      "672/672 [==============================] - 61s 89ms/step - loss: 1.4816 - accuracy: 0.5458 - val_loss: 2.9890 - val_accuracy: 0.2807\n",
      "Epoch 2/50\n",
      "672/672 [==============================] - 61s 91ms/step - loss: 0.6303 - accuracy: 0.7868 - val_loss: 28.3260 - val_accuracy: 0.1923\n",
      "Epoch 3/50\n",
      "672/672 [==============================] - ETA: 0s - loss: 0.3843 - accuracy: 0.8656"
     ]
    },
    {
     "name": "stderr",
     "output_type": "stream",
     "text": [
      "WARNING:absl:Found untraced functions such as _jit_compiled_convolution_op, _jit_compiled_convolution_op while saving (showing 2 of 2). These functions will not be directly callable after loading.\n"
     ]
    },
    {
     "name": "stdout",
     "output_type": "stream",
     "text": [
      "INFO:tensorflow:Assets written to: c:\\Users\\Ahmed\\Desktop\\AHW\\Final AHW ML Model\\wandb\\run-20221018_091156-zcrciv0a\\files\\model-best\\assets\n"
     ]
    },
    {
     "name": "stderr",
     "output_type": "stream",
     "text": [
      "INFO:tensorflow:Assets written to: c:\\Users\\Ahmed\\Desktop\\AHW\\Final AHW ML Model\\wandb\\run-20221018_091156-zcrciv0a\\files\\model-best\\assets\n",
      "\u001b[34m\u001b[1mwandb\u001b[0m: Adding directory to artifact (c:\\Users\\Ahmed\\Desktop\\AHW\\Final AHW ML Model\\wandb\\run-20221018_091156-zcrciv0a\\files\\model-best)... Done. 0.2s\n"
     ]
    },
    {
     "name": "stdout",
     "output_type": "stream",
     "text": [
      "672/672 [==============================] - 62s 92ms/step - loss: 0.3843 - accuracy: 0.8656 - val_loss: 2.0088 - val_accuracy: 0.5607\n",
      "Epoch 4/50\n",
      "672/672 [==============================] - 60s 90ms/step - loss: 0.3728 - accuracy: 0.8743 - val_loss: 5.4357 - val_accuracy: 0.2756\n",
      "Epoch 5/50\n",
      "672/672 [==============================] - 59s 88ms/step - loss: 0.2495 - accuracy: 0.9174 - val_loss: 7.4008 - val_accuracy: 0.3262\n",
      "Epoch 6/50\n",
      "672/672 [==============================] - 59s 88ms/step - loss: 0.2128 - accuracy: 0.9294 - val_loss: 2.1222 - val_accuracy: 0.6426\n",
      "Epoch 7/50\n",
      "672/672 [==============================] - ETA: 0s - loss: 0.1733 - accuracy: 0.9413"
     ]
    },
    {
     "name": "stderr",
     "output_type": "stream",
     "text": [
      "WARNING:absl:Found untraced functions such as _jit_compiled_convolution_op, _jit_compiled_convolution_op while saving (showing 2 of 2). These functions will not be directly callable after loading.\n"
     ]
    },
    {
     "name": "stdout",
     "output_type": "stream",
     "text": [
      "INFO:tensorflow:Assets written to: c:\\Users\\Ahmed\\Desktop\\AHW\\Final AHW ML Model\\wandb\\run-20221018_091156-zcrciv0a\\files\\model-best\\assets\n"
     ]
    },
    {
     "name": "stderr",
     "output_type": "stream",
     "text": [
      "INFO:tensorflow:Assets written to: c:\\Users\\Ahmed\\Desktop\\AHW\\Final AHW ML Model\\wandb\\run-20221018_091156-zcrciv0a\\files\\model-best\\assets\n",
      "\u001b[34m\u001b[1mwandb\u001b[0m: Adding directory to artifact (c:\\Users\\Ahmed\\Desktop\\AHW\\Final AHW ML Model\\wandb\\run-20221018_091156-zcrciv0a\\files\\model-best)... Done. 0.2s\n"
     ]
    },
    {
     "name": "stdout",
     "output_type": "stream",
     "text": [
      "672/672 [==============================] - 61s 91ms/step - loss: 0.1733 - accuracy: 0.9413 - val_loss: 1.3106 - val_accuracy: 0.7271\n",
      "Epoch 8/50\n",
      "672/672 [==============================] - 63s 94ms/step - loss: 0.1244 - accuracy: 0.9599 - val_loss: 2.1596 - val_accuracy: 0.6565\n",
      "Epoch 9/50\n",
      "672/672 [==============================] - 59s 88ms/step - loss: 0.1227 - accuracy: 0.9598 - val_loss: 1.4296 - val_accuracy: 0.7280\n",
      "Epoch 10/50\n",
      "672/672 [==============================] - ETA: 0s - loss: 0.1429 - accuracy: 0.9545"
     ]
    },
    {
     "name": "stderr",
     "output_type": "stream",
     "text": [
      "WARNING:absl:Found untraced functions such as _jit_compiled_convolution_op, _jit_compiled_convolution_op while saving (showing 2 of 2). These functions will not be directly callable after loading.\n"
     ]
    },
    {
     "name": "stdout",
     "output_type": "stream",
     "text": [
      "INFO:tensorflow:Assets written to: c:\\Users\\Ahmed\\Desktop\\AHW\\Final AHW ML Model\\wandb\\run-20221018_091156-zcrciv0a\\files\\model-best\\assets\n"
     ]
    },
    {
     "name": "stderr",
     "output_type": "stream",
     "text": [
      "INFO:tensorflow:Assets written to: c:\\Users\\Ahmed\\Desktop\\AHW\\Final AHW ML Model\\wandb\\run-20221018_091156-zcrciv0a\\files\\model-best\\assets\n",
      "\u001b[34m\u001b[1mwandb\u001b[0m: Adding directory to artifact (c:\\Users\\Ahmed\\Desktop\\AHW\\Final AHW ML Model\\wandb\\run-20221018_091156-zcrciv0a\\files\\model-best)... Done. 0.2s\n"
     ]
    },
    {
     "name": "stdout",
     "output_type": "stream",
     "text": [
      "672/672 [==============================] - 61s 91ms/step - loss: 0.1429 - accuracy: 0.9545 - val_loss: 1.2044 - val_accuracy: 0.7815\n",
      "Epoch 11/50\n",
      "672/672 [==============================] - ETA: 0s - loss: 0.1093 - accuracy: 0.9637"
     ]
    },
    {
     "name": "stderr",
     "output_type": "stream",
     "text": [
      "WARNING:absl:Found untraced functions such as _jit_compiled_convolution_op, _jit_compiled_convolution_op while saving (showing 2 of 2). These functions will not be directly callable after loading.\n"
     ]
    },
    {
     "name": "stdout",
     "output_type": "stream",
     "text": [
      "INFO:tensorflow:Assets written to: c:\\Users\\Ahmed\\Desktop\\AHW\\Final AHW ML Model\\wandb\\run-20221018_091156-zcrciv0a\\files\\model-best\\assets\n"
     ]
    },
    {
     "name": "stderr",
     "output_type": "stream",
     "text": [
      "INFO:tensorflow:Assets written to: c:\\Users\\Ahmed\\Desktop\\AHW\\Final AHW ML Model\\wandb\\run-20221018_091156-zcrciv0a\\files\\model-best\\assets\n",
      "\u001b[34m\u001b[1mwandb\u001b[0m: Adding directory to artifact (c:\\Users\\Ahmed\\Desktop\\AHW\\Final AHW ML Model\\wandb\\run-20221018_091156-zcrciv0a\\files\\model-best)... Done. 0.2s\n"
     ]
    },
    {
     "name": "stdout",
     "output_type": "stream",
     "text": [
      "672/672 [==============================] - 62s 92ms/step - loss: 0.1093 - accuracy: 0.9637 - val_loss: 1.0444 - val_accuracy: 0.8042\n",
      "Epoch 12/50\n",
      "672/672 [==============================] - ETA: 0s - loss: 0.0925 - accuracy: 0.9690"
     ]
    },
    {
     "name": "stderr",
     "output_type": "stream",
     "text": [
      "WARNING:absl:Found untraced functions such as _jit_compiled_convolution_op, _jit_compiled_convolution_op while saving (showing 2 of 2). These functions will not be directly callable after loading.\n"
     ]
    },
    {
     "name": "stdout",
     "output_type": "stream",
     "text": [
      "INFO:tensorflow:Assets written to: c:\\Users\\Ahmed\\Desktop\\AHW\\Final AHW ML Model\\wandb\\run-20221018_091156-zcrciv0a\\files\\model-best\\assets\n"
     ]
    },
    {
     "name": "stderr",
     "output_type": "stream",
     "text": [
      "INFO:tensorflow:Assets written to: c:\\Users\\Ahmed\\Desktop\\AHW\\Final AHW ML Model\\wandb\\run-20221018_091156-zcrciv0a\\files\\model-best\\assets\n",
      "\u001b[34m\u001b[1mwandb\u001b[0m: Adding directory to artifact (c:\\Users\\Ahmed\\Desktop\\AHW\\Final AHW ML Model\\wandb\\run-20221018_091156-zcrciv0a\\files\\model-best)... Done. 0.2s\n"
     ]
    },
    {
     "name": "stdout",
     "output_type": "stream",
     "text": [
      "672/672 [==============================] - 62s 92ms/step - loss: 0.0925 - accuracy: 0.9690 - val_loss: 0.9840 - val_accuracy: 0.8232\n",
      "Epoch 13/50\n",
      "672/672 [==============================] - 62s 92ms/step - loss: 0.1085 - accuracy: 0.9653 - val_loss: 9.4227 - val_accuracy: 0.3866\n",
      "Epoch 14/50\n",
      "672/672 [==============================] - 60s 90ms/step - loss: 0.0811 - accuracy: 0.9740 - val_loss: 3.6514 - val_accuracy: 0.5914\n",
      "Epoch 15/50\n",
      "672/672 [==============================] - 60s 90ms/step - loss: 0.0741 - accuracy: 0.9760 - val_loss: 1.1360 - val_accuracy: 0.8179\n",
      "Epoch 16/50\n",
      "672/672 [==============================] - 60s 89ms/step - loss: 0.0887 - accuracy: 0.9714 - val_loss: 11.9928 - val_accuracy: 0.4149\n",
      "Epoch 17/50\n",
      "672/672 [==============================] - ETA: 0s - loss: 0.0703 - accuracy: 0.9771"
     ]
    },
    {
     "name": "stderr",
     "output_type": "stream",
     "text": [
      "WARNING:absl:Found untraced functions such as _jit_compiled_convolution_op, _jit_compiled_convolution_op while saving (showing 2 of 2). These functions will not be directly callable after loading.\n"
     ]
    },
    {
     "name": "stdout",
     "output_type": "stream",
     "text": [
      "INFO:tensorflow:Assets written to: c:\\Users\\Ahmed\\Desktop\\AHW\\Final AHW ML Model\\wandb\\run-20221018_091156-zcrciv0a\\files\\model-best\\assets\n"
     ]
    },
    {
     "name": "stderr",
     "output_type": "stream",
     "text": [
      "INFO:tensorflow:Assets written to: c:\\Users\\Ahmed\\Desktop\\AHW\\Final AHW ML Model\\wandb\\run-20221018_091156-zcrciv0a\\files\\model-best\\assets\n",
      "\u001b[34m\u001b[1mwandb\u001b[0m: Adding directory to artifact (c:\\Users\\Ahmed\\Desktop\\AHW\\Final AHW ML Model\\wandb\\run-20221018_091156-zcrciv0a\\files\\model-best)... Done. 0.2s\n"
     ]
    },
    {
     "name": "stdout",
     "output_type": "stream",
     "text": [
      "672/672 [==============================] - 62s 92ms/step - loss: 0.0703 - accuracy: 0.9771 - val_loss: 0.9817 - val_accuracy: 0.8515\n",
      "Epoch 18/50\n",
      "672/672 [==============================] - 62s 92ms/step - loss: 0.0721 - accuracy: 0.9788 - val_loss: 1.2768 - val_accuracy: 0.8286\n",
      "Epoch 19/50\n",
      "672/672 [==============================] - 60s 89ms/step - loss: 0.0874 - accuracy: 0.9760 - val_loss: 1.0405 - val_accuracy: 0.8458\n",
      "Epoch 20/50\n",
      "672/672 [==============================] - 60s 89ms/step - loss: 0.0542 - accuracy: 0.9830 - val_loss: 2.0624 - val_accuracy: 0.7336\n",
      "Epoch 21/50\n",
      "672/672 [==============================] - ETA: 0s - loss: 0.0544 - accuracy: 0.9829"
     ]
    },
    {
     "name": "stderr",
     "output_type": "stream",
     "text": [
      "WARNING:absl:Found untraced functions such as _jit_compiled_convolution_op, _jit_compiled_convolution_op while saving (showing 2 of 2). These functions will not be directly callable after loading.\n"
     ]
    },
    {
     "name": "stdout",
     "output_type": "stream",
     "text": [
      "INFO:tensorflow:Assets written to: c:\\Users\\Ahmed\\Desktop\\AHW\\Final AHW ML Model\\wandb\\run-20221018_091156-zcrciv0a\\files\\model-best\\assets\n"
     ]
    },
    {
     "name": "stderr",
     "output_type": "stream",
     "text": [
      "INFO:tensorflow:Assets written to: c:\\Users\\Ahmed\\Desktop\\AHW\\Final AHW ML Model\\wandb\\run-20221018_091156-zcrciv0a\\files\\model-best\\assets\n",
      "\u001b[34m\u001b[1mwandb\u001b[0m: Adding directory to artifact (c:\\Users\\Ahmed\\Desktop\\AHW\\Final AHW ML Model\\wandb\\run-20221018_091156-zcrciv0a\\files\\model-best)... Done. 0.2s\n"
     ]
    },
    {
     "name": "stdout",
     "output_type": "stream",
     "text": [
      "672/672 [==============================] - 62s 92ms/step - loss: 0.0544 - accuracy: 0.9829 - val_loss: 0.9488 - val_accuracy: 0.8503\n",
      "Epoch 22/50\n",
      "672/672 [==============================] - 61s 91ms/step - loss: 0.0513 - accuracy: 0.9839 - val_loss: 10.7441 - val_accuracy: 0.4527\n",
      "Epoch 23/50\n",
      "672/672 [==============================] - 59s 88ms/step - loss: 0.0531 - accuracy: 0.9840 - val_loss: 131.9745 - val_accuracy: 0.0807\n",
      "Epoch 24/50\n",
      "672/672 [==============================] - 59s 88ms/step - loss: 0.0682 - accuracy: 0.9808 - val_loss: 1.5284 - val_accuracy: 0.8438\n",
      "Epoch 25/50\n",
      "672/672 [==============================] - 59s 88ms/step - loss: 0.0549 - accuracy: 0.9839 - val_loss: 3.5617 - val_accuracy: 0.5735\n",
      "Epoch 26/50\n",
      "672/672 [==============================] - 59s 88ms/step - loss: 0.0452 - accuracy: 0.9889 - val_loss: 20.3219 - val_accuracy: 0.1524\n",
      "Epoch 27/50\n",
      "672/672 [==============================] - 59s 87ms/step - loss: 0.0506 - accuracy: 0.9864 - val_loss: 26.8298 - val_accuracy: 0.2908\n",
      "Epoch 28/50\n",
      "672/672 [==============================] - 59s 88ms/step - loss: 0.0487 - accuracy: 0.9854 - val_loss: 7.2757 - val_accuracy: 0.3863\n",
      "Epoch 29/50\n",
      "672/672 [==============================] - 59s 88ms/step - loss: 0.0381 - accuracy: 0.9892 - val_loss: 876.4117 - val_accuracy: 0.0360\n",
      "Epoch 30/50\n",
      "672/672 [==============================] - 59s 88ms/step - loss: 0.0470 - accuracy: 0.9869 - val_loss: 28.4323 - val_accuracy: 0.1086\n",
      "Epoch 31/50\n",
      "672/672 [==============================] - 59s 88ms/step - loss: 0.0457 - accuracy: 0.9859 - val_loss: 2.3250 - val_accuracy: 0.7229\n",
      "Epoch 32/50\n",
      "672/672 [==============================] - 59s 88ms/step - loss: 0.0488 - accuracy: 0.9852 - val_loss: 1.3448 - val_accuracy: 0.8045\n",
      "Epoch 33/50\n",
      "672/672 [==============================] - 59s 88ms/step - loss: 0.0447 - accuracy: 0.9879 - val_loss: 200.4379 - val_accuracy: 0.0830\n",
      "Epoch 34/50\n",
      "672/672 [==============================] - 59s 88ms/step - loss: 0.0293 - accuracy: 0.9905 - val_loss: 4.0136 - val_accuracy: 0.5792\n",
      "Epoch 35/50\n",
      "672/672 [==============================] - 59s 88ms/step - loss: 0.0338 - accuracy: 0.9900 - val_loss: 19.6628 - val_accuracy: 0.3863\n",
      "Epoch 36/50\n",
      "672/672 [==============================] - 59s 88ms/step - loss: 0.0355 - accuracy: 0.9894 - val_loss: 176.9304 - val_accuracy: 0.1107\n",
      "Epoch 37/50\n",
      "672/672 [==============================] - 59s 88ms/step - loss: 0.0429 - accuracy: 0.9866 - val_loss: 14.1977 - val_accuracy: 0.2798\n",
      "Epoch 38/50\n",
      "672/672 [==============================] - 60s 89ms/step - loss: 0.0486 - accuracy: 0.9862 - val_loss: 3.2798 - val_accuracy: 0.6958\n",
      "Epoch 39/50\n",
      "672/672 [==============================] - 59s 88ms/step - loss: 0.0304 - accuracy: 0.9915 - val_loss: 2.1101 - val_accuracy: 0.8036\n",
      "Epoch 40/50\n",
      "672/672 [==============================] - 59s 88ms/step - loss: 0.0301 - accuracy: 0.9912 - val_loss: 4.1850 - val_accuracy: 0.6271\n",
      "Epoch 41/50\n",
      "672/672 [==============================] - 59s 88ms/step - loss: 0.0400 - accuracy: 0.9891 - val_loss: 37.0564 - val_accuracy: 0.2765\n",
      "Epoch 42/50\n",
      "672/672 [==============================] - 59s 88ms/step - loss: 0.0314 - accuracy: 0.9912 - val_loss: 3.6580 - val_accuracy: 0.6911\n",
      "Epoch 43/50\n",
      "672/672 [==============================] - 59s 88ms/step - loss: 0.0319 - accuracy: 0.9903 - val_loss: 155.9633 - val_accuracy: 0.1185\n",
      "Epoch 44/50\n",
      "672/672 [==============================] - 59s 88ms/step - loss: 0.0448 - accuracy: 0.9885 - val_loss: 9.8884 - val_accuracy: 0.3104\n",
      "Epoch 45/50\n",
      "672/672 [==============================] - 59s 88ms/step - loss: 0.0349 - accuracy: 0.9908 - val_loss: 5.5586 - val_accuracy: 0.5223\n",
      "Epoch 46/50\n",
      "672/672 [==============================] - 59s 88ms/step - loss: 0.0243 - accuracy: 0.9924 - val_loss: 11.3524 - val_accuracy: 0.3497\n",
      "Epoch 47/50\n",
      "672/672 [==============================] - 59s 87ms/step - loss: 0.0210 - accuracy: 0.9943 - val_loss: 6.8678 - val_accuracy: 0.4375\n",
      "Epoch 48/50\n",
      "672/672 [==============================] - 58s 87ms/step - loss: 0.0347 - accuracy: 0.9914 - val_loss: 27.8293 - val_accuracy: 0.1071\n",
      "Epoch 49/50\n",
      "672/672 [==============================] - 59s 87ms/step - loss: 0.0306 - accuracy: 0.9920 - val_loss: 367.5119 - val_accuracy: 0.0693\n",
      "Epoch 50/50\n",
      "672/672 [==============================] - 59s 87ms/step - loss: 0.0178 - accuracy: 0.9946 - val_loss: 104.1780 - val_accuracy: 0.1664\n"
     ]
    }
   ],
   "source": [
    "# model.fit(\n",
    "#     train_generator, \n",
    "#     epochs=1,\n",
    "#     validation_data=test_generator,\n",
    "#     callbacks=[best_loss_checkpoint, best_val_loss_checkpoint]\n",
    "# )\n",
    "\n",
    "\n",
    "\n",
    "history = model.fit(\n",
    "    train_data,\n",
    "    train_labels,\n",
    "    validation_data=(test_data, test_labels), \n",
    "    epochs=50, \n",
    "    batch_size=20, \n",
    "    callbacks=[best_loss_checkpoint, best_val_loss_checkpoint, WandbCallback()]\n",
    ")"
   ]
  },
  {
   "cell_type": "code",
   "execution_count": 63,
   "metadata": {},
   "outputs": [],
   "source": [
    "model.load_weights(\"./models/best_val_loss_model.h5\")"
   ]
  },
  {
   "cell_type": "code",
   "execution_count": 64,
   "metadata": {},
   "outputs": [
    {
     "data": {
      "text/plain": [
       "<AxesSubplot: >"
      ]
     },
     "execution_count": 64,
     "metadata": {},
     "output_type": "execute_result"
    },
    {
     "data": {
      "image/png": "[encoded data removed]",
      "text/plain": [
       "<Figure size 640x480 with 1 Axes>"
      ]
     },
     "metadata": {},
     "output_type": "display_data"
    },
    {
     "data": {
      "image/png": "[encoded data removed]",
      "text/plain": [
       "<Figure size 640x480 with 1 Axes>"
      ]
     },
     "metadata": {},
     "output_type": "display_data"
    }
   ],
   "source": [
    "losses = pd.DataFrame(model.history.history)\n",
    "losses[['accuracy','val_accuracy']].plot()\n",
    "losses[['loss','val_loss']].plot()"
   ]
  },
  {
   "cell_type": "code",
   "execution_count": 14,
   "metadata": {},
   "outputs": [
    {
     "name": "stdout",
     "output_type": "stream",
     "text": [
      "105/105 [==============================] - 3s 25ms/step\n"
     ]
    },
    {
     "ename": "NameError",
     "evalue": "name 'sn' is not defined",
     "output_type": "error",
     "traceback": [
      "\u001b[1;31m---------------------------------------------------------------------------\u001b[0m",
      "\u001b[1;31mNameError\u001b[0m                                 Traceback (most recent call last)",
      "Cell \u001b[1;32mIn [14], line 15\u001b[0m\n\u001b[0;32m     13\u001b[0m df_cm\u001b[39m.\u001b[39mcolumns\u001b[39m.\u001b[39mname \u001b[39m=\u001b[39m \u001b[39m'\u001b[39m\u001b[39mpredicted\u001b[39m\u001b[39m'\u001b[39m\n\u001b[0;32m     14\u001b[0m plt\u001b[39m.\u001b[39mfigure(figsize \u001b[39m=\u001b[39m (\u001b[39m20\u001b[39m,\u001b[39m15\u001b[39m))\n\u001b[1;32m---> 15\u001b[0m sn\u001b[39m.\u001b[39mset(font_scale\u001b[39m=\u001b[39m\u001b[39m1.4\u001b[39m) \n\u001b[0;32m     16\u001b[0m sn\u001b[39m.\u001b[39mheatmap(df_cm, cmap\u001b[39m=\u001b[39m\u001b[39m\"\u001b[39m\u001b[39mBlues\u001b[39m\u001b[39m\"\u001b[39m, annot\u001b[39m=\u001b[39m\u001b[39mTrue\u001b[39;00m, annot_kws\u001b[39m=\u001b[39m{\u001b[39m\"\u001b[39m\u001b[39msize\u001b[39m\u001b[39m\"\u001b[39m: \u001b[39m15\u001b[39m}, fmt\u001b[39m=\u001b[39m\u001b[39m\"\u001b[39m\u001b[39md\u001b[39m\u001b[39m\"\u001b[39m)\n",
      "\u001b[1;31mNameError\u001b[0m: name 'sn' is not defined"
     ]
    },
    {
     "data": {
      "text/plain": [
       "<Figure size 2000x1500 with 0 Axes>"
      ]
     },
     "metadata": {},
     "output_type": "display_data"
    }
   ],
   "source": [
    "from sklearn.metrics import confusion_matrix\n",
    "\n",
    "predictions = model.predict(test_data)\n",
    "confusion = confusion_matrix(\n",
    "    np.argmax(test_labels, axis=1),\n",
    "    np.argmax(predictions, axis=1)\n",
    ")\n",
    "\n",
    "labels = ['ا', 'ب', 'ت', 'ث', 'ج', 'ح', 'خ', 'د', 'ذ', 'ر', 'ز', 'س', 'ش', 'ص', 'ض', 'ط', 'ظ', 'ع', 'غ', 'ف', 'ق', 'ك', 'ل', 'م', 'ن', 'ه', 'و', 'ي']\n",
    "\n",
    "df_cm = pd.DataFrame(confusion, columns=np.unique(labels), index = np.unique(labels))\n",
    "df_cm.index.name = 'actual'\n",
    "df_cm.columns.name = 'predicted'\n",
    "plt.figure(figsize = (20,15))\n",
    "sn.set(font_scale=1.4) \n",
    "sn.heatmap(df_cm, cmap=\"Blues\", annot=True, annot_kws={\"size\": 15}, fmt=\"d\")"
   ]
  },
  {
   "cell_type": "code",
   "execution_count": 65,
   "metadata": {},
   "outputs": [],
   "source": [
    "# model.evaluate(test_generator)"
   ]
  },
  {
   "cell_type": "code",
   "execution_count": 66,
   "metadata": {},
   "outputs": [],
   "source": [
    "# pred = model.predict(x_test)\n",
    "# print(pred.shape)\n",
    "# pred = np.argmax(pred, axis=1)\n",
    "# print(pred)"
   ]
  },
  {
   "cell_type": "code",
   "execution_count": 67,
   "metadata": {},
   "outputs": [],
   "source": [
    "# print(classification_report(y_test, pred))"
   ]
  },
  {
   "cell_type": "code",
   "execution_count": 68,
   "metadata": {},
   "outputs": [],
   "source": [
    "# from keras.models import Model\n",
    "\n",
    "# layer_name = 'featurs'\n",
    "# intermediate_layer_model = Model(inputs=model.input,\n",
    "#                                  outputs=model.get_layer(layer_name).output)\n",
    "# train_features = intermediate_layer_model.predict(x_train)"
   ]
  },
  {
   "cell_type": "code",
   "execution_count": 69,
   "metadata": {},
   "outputs": [],
   "source": [
    "# not train_features.any()"
   ]
  },
  {
   "cell_type": "code",
   "execution_count": 70,
   "metadata": {},
   "outputs": [],
   "source": [
    "# from sklearn.svm import SVC\n",
    "# # kernel{‘linear’, ‘poly’, ‘rbf’, ‘sigmoid’, ‘precomputed’}\n",
    "# grid = {'C': [0.1, 1, 10, 100, 1000],\n",
    "#         'gamma': ['scale', 1, 0.1, 0.01, 0.001, 0.0001],\n",
    "#         'kernel': ['linear','rbf', 'poly', 'sigmoid']\n",
    "#        }\n",
    "# svm =SVC()\n",
    "# svm_cv=HalvingGridSearchCV(svm,grid,cv=10)\n",
    "# svm_cv.fit(train_features,y_train)\n",
    "\n",
    "# print(\"tuned hpyerparameters :(best parameters) \",svm_cv.best_params_)\n",
    "# print(\"accuracy :\",svm_cv.best_score_)"
   ]
  },
  {
   "cell_type": "code",
   "execution_count": 71,
   "metadata": {},
   "outputs": [],
   "source": [
    "# test_features = intermediate_layer_model.predict(x_test)"
   ]
  },
  {
   "cell_type": "code",
   "execution_count": 72,
   "metadata": {},
   "outputs": [],
   "source": [
    "# svc =SVC(C = 10, gamma = 'scale', kernel = 'rbf')\n",
    "# svc.fit(train_features,y_train)\n",
    "# y_pred = svc.predict(test_features)"
   ]
  },
  {
   "cell_type": "code",
   "execution_count": 73,
   "metadata": {},
   "outputs": [],
   "source": [
    "# print(classification_report(y_test, y_pred))"
   ]
  },
  {
   "cell_type": "code",
   "execution_count": 74,
   "metadata": {},
   "outputs": [],
   "source": [
    "# from sklearn.multiclass import OneVsRestClassifier\n",
    "# from sklearn.metrics import roc_auc_score\n",
    "\n",
    "# # Learn to predict each class against the other\n",
    "# classifier = OneVsRestClassifier(\n",
    "#     SVC(C = 10, gamma = 'scale', kernel = 'rbf')\n",
    "# )\n",
    "# y_score = classifier.fit(train_features,y_train_h).decision_function(test_features)\n",
    "# roc_auc_score(y_test_h, y_score)"
   ]
  },
  {
   "cell_type": "code",
   "execution_count": 75,
   "metadata": {},
   "outputs": [],
   "source": [
    "# print(y_pred)"
   ]
  },
  {
   "cell_type": "code",
   "execution_count": 76,
   "metadata": {},
   "outputs": [],
   "source": [
    "# i = 0 \n",
    "# plt.figure(figsize = (20, 16))\n",
    "# for j in range (len(y_test)):\n",
    "#     if y_test[j] != y_pred[j]:\n",
    "#         plt.subplot(6,8,i+1)\n",
    "#         plt.xticks([])\n",
    "#         plt.yticks([])\n",
    "#         plt.imshow(x_test[j].reshape(32,32),\"gray\")\n",
    "#         plt.title('{} -> {}'.format(arabic_chars[int(y_test[j])], arabic_chars[int(y_pred[j])]), fontsize = 20)\n",
    "#         #plt.xlabel(arabic_chars[int(y_test[j])], fontsize=20)\n",
    "#         i+=1\n",
    "#     if i >= 48:\n",
    "#         break\n",
    "# plt.show()\n",
    "# plt.savefig('misclassified.png')"
   ]
  }
 ],
 "metadata": {
  "kernelspec": {
   "display_name": "Python 3.9.13 64-bit",
   "language": "python",
   "name": "python3"
  },
  "language_info": {
   "codemirror_mode": {
    "name": "ipython",
    "version": 3
   },
   "file_extension": ".py",
   "mimetype": "text/x-python",
   "name": "python",
   "nbconvert_exporter": "python",
   "pygments_lexer": "ipython3",
   "version": "3.9.13"
  },
  "orig_nbformat": 4,
  "vscode": {
   "interpreter": {
    "hash": "11938c6bc6919ae2720b4d5011047913343b08a43b18698fd82dedb0d4417594"
   }
  }
 },
 "nbformat": 4,
 "nbformat_minor": 2
}
