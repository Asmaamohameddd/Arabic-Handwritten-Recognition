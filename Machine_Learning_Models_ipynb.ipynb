{
  "cells": [
    {
      "cell_type": "code",
      "execution_count": 7,
      "id": "2b33942b",
      "metadata": {
        "execution": {
          "iopub.execute_input": "2022-12-30T20:05:09.988919Z",
          "iopub.status.busy": "2022-12-30T20:05:09.988404Z",
          "iopub.status.idle": "2022-12-30T20:05:15.380866Z",
          "shell.execute_reply": "2022-12-30T20:05:15.379888Z"
        },
        "papermill": {
          "duration": 5.421954,
          "end_time": "2022-12-30T20:05:15.383475",
          "exception": false,
          "start_time": "2022-12-30T20:05:09.961521",
          "status": "completed"
        },
        "tags": [],
        "id": "2b33942b"
      },
      "outputs": [],
      "source": [
        "import pandas as pd\n",
        "import numpy as np\n",
        "import matplotlib.pyplot as plt\n",
        "import warnings\n",
        "import PIL\n",
        "import tensorflow as tf\n",
        "\n",
        "from tensorflow import keras\n",
        "from tensorflow.keras import layers\n",
        "from tensorflow.keras.models import Sequential\n",
        "from keras.utils.np_utils import to_categorical\n",
        "warnings.filterwarnings('ignore')"
      ]
    },
    {
      "cell_type": "code",
      "source": [
        "x_train_ahcd = pd.read_csv(\"/content/csvTrainImages 13440x1024.csv\",header=None)\n",
        "y_train_ahcd = pd.read_csv(\"/content/csvTrainLabel 13440x1.csv\", header=None, names=[\"label\"], converters={'label': str})\n",
        "\n",
        "x_test_ahcd = pd.read_csv(\"/content/csvTestImages 3360x1024.csv\",header=None)\n",
        "y_test_ahcd = pd.read_csv(\"/content/csvTestLabel 3360x1.csv\", header=None, names=[\"label\"], converters={'label': str})\n"
      ],
      "metadata": {
        "id": "OiUtsJCD5CEa"
      },
      "id": "OiUtsJCD5CEa",
      "execution_count": 9,
      "outputs": []
    },
    {
      "cell_type": "markdown",
      "id": "ef551b59",
      "metadata": {
        "papermill": {
          "duration": 0.015341,
          "end_time": "2022-12-30T20:05:28.098108",
          "exception": false,
          "start_time": "2022-12-30T20:05:28.082767",
          "status": "completed"
        },
        "tags": [],
        "id": "ef551b59"
      },
      "source": [
        "# Preparing the Data"
      ]
    },
    {
      "cell_type": "markdown",
      "id": "46bcc22b",
      "metadata": {
        "papermill": {
          "duration": 0.017394,
          "end_time": "2022-12-30T20:05:31.056780",
          "exception": false,
          "start_time": "2022-12-30T20:05:31.039386",
          "status": "completed"
        },
        "tags": [],
        "id": "46bcc22b"
      },
      "source": [
        "**Preparing the AHCD Data**"
      ]
    },
    {
      "cell_type": "code",
      "execution_count": 10,
      "id": "67e071d5",
      "metadata": {
        "execution": {
          "iopub.execute_input": "2022-12-30T20:05:31.093615Z",
          "iopub.status.busy": "2022-12-30T20:05:31.092959Z",
          "iopub.status.idle": "2022-12-30T20:05:31.110023Z",
          "shell.execute_reply": "2022-12-30T20:05:31.109032Z"
        },
        "papermill": {
          "duration": 0.037749,
          "end_time": "2022-12-30T20:05:31.112094",
          "exception": false,
          "start_time": "2022-12-30T20:05:31.074345",
          "status": "completed"
        },
        "tags": [],
        "id": "67e071d5",
        "outputId": "3285eec4-42f4-4afc-b3dd-0dea136e57aa",
        "colab": {
          "base_uri": "https://localhost:8080/",
          "height": 236
        }
      },
      "outputs": [
        {
          "output_type": "execute_result",
          "data": {
            "text/plain": [
              "   0     1     2     3     4     5     6     7     8     9     ...  1014  \\\n",
              "0     0     0     0     0     0     0     0     0     0     0  ...     0   \n",
              "1     0     0     0     0     0     0     0     0     0     0  ...     0   \n",
              "2     0     0     0     0     0     0     0     0     0     0  ...     0   \n",
              "3     0     0     0     0     0     0     0     0     0     0  ...     0   \n",
              "4     0     0     0     0     0     0     0     0     0     0  ...     0   \n",
              "\n",
              "   1015  1016  1017  1018  1019  1020  1021  1022  1023  \n",
              "0     0     0     0     0     0     0     0     0     0  \n",
              "1     0     0     0     0     0     0     0     0     0  \n",
              "2     0     0     0     0     0     0     0     0     0  \n",
              "3     0     0     0     0     0     0     0     0     0  \n",
              "4     0     0     0     0     0     0     0     0     0  \n",
              "\n",
              "[5 rows x 1024 columns]"
            ],
            "text/html": [
              "\n",
              "  <div id=\"df-00d6d44b-4f49-4e17-8388-bae45ed753e5\">\n",
              "    <div class=\"colab-df-container\">\n",
              "      <div>\n",
              "<style scoped>\n",
              "    .dataframe tbody tr th:only-of-type {\n",
              "        vertical-align: middle;\n",
              "    }\n",
              "\n",
              "    .dataframe tbody tr th {\n",
              "        vertical-align: top;\n",
              "    }\n",
              "\n",
              "    .dataframe thead th {\n",
              "        text-align: right;\n",
              "    }\n",
              "</style>\n",
              "<table border=\"1\" class=\"dataframe\">\n",
              "  <thead>\n",
              "    <tr style=\"text-align: right;\">\n",
              "      <th></th>\n",
              "      <th>0</th>\n",
              "      <th>1</th>\n",
              "      <th>2</th>\n",
              "      <th>3</th>\n",
              "      <th>4</th>\n",
              "      <th>5</th>\n",
              "      <th>6</th>\n",
              "      <th>7</th>\n",
              "      <th>8</th>\n",
              "      <th>9</th>\n",
              "      <th>...</th>\n",
              "      <th>1014</th>\n",
              "      <th>1015</th>\n",
              "      <th>1016</th>\n",
              "      <th>1017</th>\n",
              "      <th>1018</th>\n",
              "      <th>1019</th>\n",
              "      <th>1020</th>\n",
              "      <th>1021</th>\n",
              "      <th>1022</th>\n",
              "      <th>1023</th>\n",
              "    </tr>\n",
              "  </thead>\n",
              "  <tbody>\n",
              "    <tr>\n",
              "      <th>0</th>\n",
              "      <td>0</td>\n",
              "      <td>0</td>\n",
              "      <td>0</td>\n",
              "      <td>0</td>\n",
              "      <td>0</td>\n",
              "      <td>0</td>\n",
              "      <td>0</td>\n",
              "      <td>0</td>\n",
              "      <td>0</td>\n",
              "      <td>0</td>\n",
              "      <td>...</td>\n",
              "      <td>0</td>\n",
              "      <td>0</td>\n",
              "      <td>0</td>\n",
              "      <td>0</td>\n",
              "      <td>0</td>\n",
              "      <td>0</td>\n",
              "      <td>0</td>\n",
              "      <td>0</td>\n",
              "      <td>0</td>\n",
              "      <td>0</td>\n",
              "    </tr>\n",
              "    <tr>\n",
              "      <th>1</th>\n",
              "      <td>0</td>\n",
              "      <td>0</td>\n",
              "      <td>0</td>\n",
              "      <td>0</td>\n",
              "      <td>0</td>\n",
              "      <td>0</td>\n",
              "      <td>0</td>\n",
              "      <td>0</td>\n",
              "      <td>0</td>\n",
              "      <td>0</td>\n",
              "      <td>...</td>\n",
              "      <td>0</td>\n",
              "      <td>0</td>\n",
              "      <td>0</td>\n",
              "      <td>0</td>\n",
              "      <td>0</td>\n",
              "      <td>0</td>\n",
              "      <td>0</td>\n",
              "      <td>0</td>\n",
              "      <td>0</td>\n",
              "      <td>0</td>\n",
              "    </tr>\n",
              "    <tr>\n",
              "      <th>2</th>\n",
              "      <td>0</td>\n",
              "      <td>0</td>\n",
              "      <td>0</td>\n",
              "      <td>0</td>\n",
              "      <td>0</td>\n",
              "      <td>0</td>\n",
              "      <td>0</td>\n",
              "      <td>0</td>\n",
              "      <td>0</td>\n",
              "      <td>0</td>\n",
              "      <td>...</td>\n",
              "      <td>0</td>\n",
              "      <td>0</td>\n",
              "      <td>0</td>\n",
              "      <td>0</td>\n",
              "      <td>0</td>\n",
              "      <td>0</td>\n",
              "      <td>0</td>\n",
              "      <td>0</td>\n",
              "      <td>0</td>\n",
              "      <td>0</td>\n",
              "    </tr>\n",
              "    <tr>\n",
              "      <th>3</th>\n",
              "      <td>0</td>\n",
              "      <td>0</td>\n",
              "      <td>0</td>\n",
              "      <td>0</td>\n",
              "      <td>0</td>\n",
              "      <td>0</td>\n",
              "      <td>0</td>\n",
              "      <td>0</td>\n",
              "      <td>0</td>\n",
              "      <td>0</td>\n",
              "      <td>...</td>\n",
              "      <td>0</td>\n",
              "      <td>0</td>\n",
              "      <td>0</td>\n",
              "      <td>0</td>\n",
              "      <td>0</td>\n",
              "      <td>0</td>\n",
              "      <td>0</td>\n",
              "      <td>0</td>\n",
              "      <td>0</td>\n",
              "      <td>0</td>\n",
              "    </tr>\n",
              "    <tr>\n",
              "      <th>4</th>\n",
              "      <td>0</td>\n",
              "      <td>0</td>\n",
              "      <td>0</td>\n",
              "      <td>0</td>\n",
              "      <td>0</td>\n",
              "      <td>0</td>\n",
              "      <td>0</td>\n",
              "      <td>0</td>\n",
              "      <td>0</td>\n",
              "      <td>0</td>\n",
              "      <td>...</td>\n",
              "      <td>0</td>\n",
              "      <td>0</td>\n",
              "      <td>0</td>\n",
              "      <td>0</td>\n",
              "      <td>0</td>\n",
              "      <td>0</td>\n",
              "      <td>0</td>\n",
              "      <td>0</td>\n",
              "      <td>0</td>\n",
              "      <td>0</td>\n",
              "    </tr>\n",
              "  </tbody>\n",
              "</table>\n",
              "<p>5 rows × 1024 columns</p>\n",
              "</div>\n",
              "      <button class=\"colab-df-convert\" onclick=\"convertToInteractive('df-00d6d44b-4f49-4e17-8388-bae45ed753e5')\"\n",
              "              title=\"Convert this dataframe to an interactive table.\"\n",
              "              style=\"display:none;\">\n",
              "        \n",
              "  <svg xmlns=\"http://www.w3.org/2000/svg\" height=\"24px\"viewBox=\"0 0 24 24\"\n",
              "       width=\"24px\">\n",
              "    <path d=\"M0 0h24v24H0V0z\" fill=\"none\"/>\n",
              "    <path d=\"M18.56 5.44l.94 2.06.94-2.06 2.06-.94-2.06-.94-.94-2.06-.94 2.06-2.06.94zm-11 1L8.5 8.5l.94-2.06 2.06-.94-2.06-.94L8.5 2.5l-.94 2.06-2.06.94zm10 10l.94 2.06.94-2.06 2.06-.94-2.06-.94-.94-2.06-.94 2.06-2.06.94z\"/><path d=\"M17.41 7.96l-1.37-1.37c-.4-.4-.92-.59-1.43-.59-.52 0-1.04.2-1.43.59L10.3 9.45l-7.72 7.72c-.78.78-.78 2.05 0 2.83L4 21.41c.39.39.9.59 1.41.59.51 0 1.02-.2 1.41-.59l7.78-7.78 2.81-2.81c.8-.78.8-2.07 0-2.86zM5.41 20L4 18.59l7.72-7.72 1.47 1.35L5.41 20z\"/>\n",
              "  </svg>\n",
              "      </button>\n",
              "      \n",
              "  <style>\n",
              "    .colab-df-container {\n",
              "      display:flex;\n",
              "      flex-wrap:wrap;\n",
              "      gap: 12px;\n",
              "    }\n",
              "\n",
              "    .colab-df-convert {\n",
              "      background-color: #E8F0FE;\n",
              "      border: none;\n",
              "      border-radius: 50%;\n",
              "      cursor: pointer;\n",
              "      display: none;\n",
              "      fill: #1967D2;\n",
              "      height: 32px;\n",
              "      padding: 0 0 0 0;\n",
              "      width: 32px;\n",
              "    }\n",
              "\n",
              "    .colab-df-convert:hover {\n",
              "      background-color: #E2EBFA;\n",
              "      box-shadow: 0px 1px 2px rgba(60, 64, 67, 0.3), 0px 1px 3px 1px rgba(60, 64, 67, 0.15);\n",
              "      fill: #174EA6;\n",
              "    }\n",
              "\n",
              "    [theme=dark] .colab-df-convert {\n",
              "      background-color: #3B4455;\n",
              "      fill: #D2E3FC;\n",
              "    }\n",
              "\n",
              "    [theme=dark] .colab-df-convert:hover {\n",
              "      background-color: #434B5C;\n",
              "      box-shadow: 0px 1px 3px 1px rgba(0, 0, 0, 0.15);\n",
              "      filter: drop-shadow(0px 1px 2px rgba(0, 0, 0, 0.3));\n",
              "      fill: #FFFFFF;\n",
              "    }\n",
              "  </style>\n",
              "\n",
              "      <script>\n",
              "        const buttonEl =\n",
              "          document.querySelector('#df-00d6d44b-4f49-4e17-8388-bae45ed753e5 button.colab-df-convert');\n",
              "        buttonEl.style.display =\n",
              "          google.colab.kernel.accessAllowed ? 'block' : 'none';\n",
              "\n",
              "        async function convertToInteractive(key) {\n",
              "          const element = document.querySelector('#df-00d6d44b-4f49-4e17-8388-bae45ed753e5');\n",
              "          const dataTable =\n",
              "            await google.colab.kernel.invokeFunction('convertToInteractive',\n",
              "                                                     [key], {});\n",
              "          if (!dataTable) return;\n",
              "\n",
              "          const docLinkHtml = 'Like what you see? Visit the ' +\n",
              "            '<a target=\"_blank\" href=https://colab.research.google.com/notebooks/data_table.ipynb>data table notebook</a>'\n",
              "            + ' to learn more about interactive tables.';\n",
              "          element.innerHTML = '';\n",
              "          dataTable['output_type'] = 'display_data';\n",
              "          await google.colab.output.renderOutput(dataTable, element);\n",
              "          const docLink = document.createElement('div');\n",
              "          docLink.innerHTML = docLinkHtml;\n",
              "          element.appendChild(docLink);\n",
              "        }\n",
              "      </script>\n",
              "    </div>\n",
              "  </div>\n",
              "  "
            ]
          },
          "metadata": {},
          "execution_count": 10
        }
      ],
      "source": [
        "x_train_ahcd.head()"
      ]
    },
    {
      "cell_type": "code",
      "execution_count": 11,
      "id": "111ea522",
      "metadata": {
        "execution": {
          "iopub.execute_input": "2022-12-30T20:05:31.149199Z",
          "iopub.status.busy": "2022-12-30T20:05:31.148373Z",
          "iopub.status.idle": "2022-12-30T20:05:31.157061Z",
          "shell.execute_reply": "2022-12-30T20:05:31.156065Z"
        },
        "papermill": {
          "duration": 0.029609,
          "end_time": "2022-12-30T20:05:31.159258",
          "exception": false,
          "start_time": "2022-12-30T20:05:31.129649",
          "status": "completed"
        },
        "tags": [],
        "id": "111ea522",
        "outputId": "ca2234a4-138c-4fc9-b87e-79493d983579",
        "colab": {
          "base_uri": "https://localhost:8080/",
          "height": 206
        }
      },
      "outputs": [
        {
          "output_type": "execute_result",
          "data": {
            "text/plain": [
              "  label\n",
              "0     1\n",
              "1     1\n",
              "2     1\n",
              "3     1\n",
              "4     1"
            ],
            "text/html": [
              "\n",
              "  <div id=\"df-f92014c6-6b4d-4ff3-8b4e-a96a69c00289\">\n",
              "    <div class=\"colab-df-container\">\n",
              "      <div>\n",
              "<style scoped>\n",
              "    .dataframe tbody tr th:only-of-type {\n",
              "        vertical-align: middle;\n",
              "    }\n",
              "\n",
              "    .dataframe tbody tr th {\n",
              "        vertical-align: top;\n",
              "    }\n",
              "\n",
              "    .dataframe thead th {\n",
              "        text-align: right;\n",
              "    }\n",
              "</style>\n",
              "<table border=\"1\" class=\"dataframe\">\n",
              "  <thead>\n",
              "    <tr style=\"text-align: right;\">\n",
              "      <th></th>\n",
              "      <th>label</th>\n",
              "    </tr>\n",
              "  </thead>\n",
              "  <tbody>\n",
              "    <tr>\n",
              "      <th>0</th>\n",
              "      <td>1</td>\n",
              "    </tr>\n",
              "    <tr>\n",
              "      <th>1</th>\n",
              "      <td>1</td>\n",
              "    </tr>\n",
              "    <tr>\n",
              "      <th>2</th>\n",
              "      <td>1</td>\n",
              "    </tr>\n",
              "    <tr>\n",
              "      <th>3</th>\n",
              "      <td>1</td>\n",
              "    </tr>\n",
              "    <tr>\n",
              "      <th>4</th>\n",
              "      <td>1</td>\n",
              "    </tr>\n",
              "  </tbody>\n",
              "</table>\n",
              "</div>\n",
              "      <button class=\"colab-df-convert\" onclick=\"convertToInteractive('df-f92014c6-6b4d-4ff3-8b4e-a96a69c00289')\"\n",
              "              title=\"Convert this dataframe to an interactive table.\"\n",
              "              style=\"display:none;\">\n",
              "        \n",
              "  <svg xmlns=\"http://www.w3.org/2000/svg\" height=\"24px\"viewBox=\"0 0 24 24\"\n",
              "       width=\"24px\">\n",
              "    <path d=\"M0 0h24v24H0V0z\" fill=\"none\"/>\n",
              "    <path d=\"M18.56 5.44l.94 2.06.94-2.06 2.06-.94-2.06-.94-.94-2.06-.94 2.06-2.06.94zm-11 1L8.5 8.5l.94-2.06 2.06-.94-2.06-.94L8.5 2.5l-.94 2.06-2.06.94zm10 10l.94 2.06.94-2.06 2.06-.94-2.06-.94-.94-2.06-.94 2.06-2.06.94z\"/><path d=\"M17.41 7.96l-1.37-1.37c-.4-.4-.92-.59-1.43-.59-.52 0-1.04.2-1.43.59L10.3 9.45l-7.72 7.72c-.78.78-.78 2.05 0 2.83L4 21.41c.39.39.9.59 1.41.59.51 0 1.02-.2 1.41-.59l7.78-7.78 2.81-2.81c.8-.78.8-2.07 0-2.86zM5.41 20L4 18.59l7.72-7.72 1.47 1.35L5.41 20z\"/>\n",
              "  </svg>\n",
              "      </button>\n",
              "      \n",
              "  <style>\n",
              "    .colab-df-container {\n",
              "      display:flex;\n",
              "      flex-wrap:wrap;\n",
              "      gap: 12px;\n",
              "    }\n",
              "\n",
              "    .colab-df-convert {\n",
              "      background-color: #E8F0FE;\n",
              "      border: none;\n",
              "      border-radius: 50%;\n",
              "      cursor: pointer;\n",
              "      display: none;\n",
              "      fill: #1967D2;\n",
              "      height: 32px;\n",
              "      padding: 0 0 0 0;\n",
              "      width: 32px;\n",
              "    }\n",
              "\n",
              "    .colab-df-convert:hover {\n",
              "      background-color: #E2EBFA;\n",
              "      box-shadow: 0px 1px 2px rgba(60, 64, 67, 0.3), 0px 1px 3px 1px rgba(60, 64, 67, 0.15);\n",
              "      fill: #174EA6;\n",
              "    }\n",
              "\n",
              "    [theme=dark] .colab-df-convert {\n",
              "      background-color: #3B4455;\n",
              "      fill: #D2E3FC;\n",
              "    }\n",
              "\n",
              "    [theme=dark] .colab-df-convert:hover {\n",
              "      background-color: #434B5C;\n",
              "      box-shadow: 0px 1px 3px 1px rgba(0, 0, 0, 0.15);\n",
              "      filter: drop-shadow(0px 1px 2px rgba(0, 0, 0, 0.3));\n",
              "      fill: #FFFFFF;\n",
              "    }\n",
              "  </style>\n",
              "\n",
              "      <script>\n",
              "        const buttonEl =\n",
              "          document.querySelector('#df-f92014c6-6b4d-4ff3-8b4e-a96a69c00289 button.colab-df-convert');\n",
              "        buttonEl.style.display =\n",
              "          google.colab.kernel.accessAllowed ? 'block' : 'none';\n",
              "\n",
              "        async function convertToInteractive(key) {\n",
              "          const element = document.querySelector('#df-f92014c6-6b4d-4ff3-8b4e-a96a69c00289');\n",
              "          const dataTable =\n",
              "            await google.colab.kernel.invokeFunction('convertToInteractive',\n",
              "                                                     [key], {});\n",
              "          if (!dataTable) return;\n",
              "\n",
              "          const docLinkHtml = 'Like what you see? Visit the ' +\n",
              "            '<a target=\"_blank\" href=https://colab.research.google.com/notebooks/data_table.ipynb>data table notebook</a>'\n",
              "            + ' to learn more about interactive tables.';\n",
              "          element.innerHTML = '';\n",
              "          dataTable['output_type'] = 'display_data';\n",
              "          await google.colab.output.renderOutput(dataTable, element);\n",
              "          const docLink = document.createElement('div');\n",
              "          docLink.innerHTML = docLinkHtml;\n",
              "          element.appendChild(docLink);\n",
              "        }\n",
              "      </script>\n",
              "    </div>\n",
              "  </div>\n",
              "  "
            ]
          },
          "metadata": {},
          "execution_count": 11
        }
      ],
      "source": [
        "y_train_ahcd.head() "
      ]
    },
    {
      "cell_type": "code",
      "execution_count": 12,
      "id": "d0d223ff",
      "metadata": {
        "execution": {
          "iopub.execute_input": "2022-12-30T20:05:31.196243Z",
          "iopub.status.busy": "2022-12-30T20:05:31.195801Z",
          "iopub.status.idle": "2022-12-30T20:05:31.206031Z",
          "shell.execute_reply": "2022-12-30T20:05:31.205030Z"
        },
        "papermill": {
          "duration": 0.031282,
          "end_time": "2022-12-30T20:05:31.207991",
          "exception": false,
          "start_time": "2022-12-30T20:05:31.176709",
          "status": "completed"
        },
        "tags": [],
        "id": "d0d223ff",
        "outputId": "ae8da671-0056-452a-931f-896d0c3aafa4",
        "colab": {
          "base_uri": "https://localhost:8080/"
        }
      },
      "outputs": [
        {
          "output_type": "execute_result",
          "data": {
            "text/plain": [
              "label\n",
              "1        480\n",
              "10       480\n",
              "8        480\n",
              "7        480\n",
              "6        480\n",
              "5        480\n",
              "4        480\n",
              "3        480\n",
              "28       480\n",
              "27       480\n",
              "26       480\n",
              "25       480\n",
              "24       480\n",
              "23       480\n",
              "22       480\n",
              "21       480\n",
              "20       480\n",
              "2        480\n",
              "19       480\n",
              "18       480\n",
              "17       480\n",
              "16       480\n",
              "15       480\n",
              "14       480\n",
              "13       480\n",
              "12       480\n",
              "11       480\n",
              "9        480\n",
              "dtype: int64"
            ]
          },
          "metadata": {},
          "execution_count": 12
        }
      ],
      "source": [
        "y_train_ahcd.value_counts() "
      ]
    },
    {
      "cell_type": "code",
      "execution_count": 13,
      "id": "394bee65",
      "metadata": {
        "execution": {
          "iopub.execute_input": "2022-12-30T20:05:31.245466Z",
          "iopub.status.busy": "2022-12-30T20:05:31.244900Z",
          "iopub.status.idle": "2022-12-30T20:05:31.254503Z",
          "shell.execute_reply": "2022-12-30T20:05:31.253517Z"
        },
        "papermill": {
          "duration": 0.030493,
          "end_time": "2022-12-30T20:05:31.256492",
          "exception": false,
          "start_time": "2022-12-30T20:05:31.225999",
          "status": "completed"
        },
        "tags": [],
        "id": "394bee65",
        "outputId": "08c1279a-534b-46e6-fbef-edadb9773114",
        "colab": {
          "base_uri": "https://localhost:8080/"
        }
      },
      "outputs": [
        {
          "output_type": "execute_result",
          "data": {
            "text/plain": [
              "label\n",
              "1        480\n",
              "10       480\n",
              "8        480\n",
              "7        480\n",
              "6        480\n",
              "5        480\n",
              "4        480\n",
              "3        480\n",
              "28       480\n",
              "27       480\n",
              "26       480\n",
              "25       480\n",
              "24       480\n",
              "23       480\n",
              "22       480\n",
              "21       480\n",
              "20       480\n",
              "2        480\n",
              "19       480\n",
              "18       480\n",
              "17       480\n",
              "16       480\n",
              "15       480\n",
              "14       480\n",
              "13       480\n",
              "12       480\n",
              "11       480\n",
              "9        480\n",
              "dtype: int64"
            ]
          },
          "metadata": {},
          "execution_count": 13
        }
      ],
      "source": [
        "y_train_ahcd.value_counts() "
      ]
    },
    {
      "cell_type": "code",
      "execution_count": 14,
      "id": "b3e69163",
      "metadata": {
        "execution": {
          "iopub.execute_input": "2022-12-30T20:05:31.294414Z",
          "iopub.status.busy": "2022-12-30T20:05:31.294121Z",
          "iopub.status.idle": "2022-12-30T20:05:31.309006Z",
          "shell.execute_reply": "2022-12-30T20:05:31.308105Z"
        },
        "papermill": {
          "duration": 0.036549,
          "end_time": "2022-12-30T20:05:31.311108",
          "exception": false,
          "start_time": "2022-12-30T20:05:31.274559",
          "status": "completed"
        },
        "tags": [],
        "id": "b3e69163",
        "outputId": "3fd91f0a-68ba-4918-e795-9c95f067c429",
        "colab": {
          "base_uri": "https://localhost:8080/",
          "height": 236
        }
      },
      "outputs": [
        {
          "output_type": "execute_result",
          "data": {
            "text/plain": [
              "   0     1     2     3     4     5     6     7     8     9     ...  1014  \\\n",
              "0     0     0     0     0     0     0     0     0     0     0  ...     0   \n",
              "1     0     0     0     0     0     0     0     0     0     0  ...     0   \n",
              "2     0     0     0     0     0     0     0     0     0     0  ...     0   \n",
              "3     0     0     0     0     0     0     0     0     0     0  ...     0   \n",
              "4     0     0     0     0     0     0     0     0     0     0  ...     0   \n",
              "\n",
              "   1015  1016  1017  1018  1019  1020  1021  1022  1023  \n",
              "0     0     0     0     0     0     0     0     0     0  \n",
              "1     0     0     0     0     0     0     0     0     0  \n",
              "2     0     0     0     0     0     0     0     0     0  \n",
              "3     0     0     0     0     0     0     0     0     0  \n",
              "4     0     0     0     0     0     0     0     0     0  \n",
              "\n",
              "[5 rows x 1024 columns]"
            ],
            "text/html": [
              "\n",
              "  <div id=\"df-26edd25f-a7f6-4f6d-87cb-b152ce109e8b\">\n",
              "    <div class=\"colab-df-container\">\n",
              "      <div>\n",
              "<style scoped>\n",
              "    .dataframe tbody tr th:only-of-type {\n",
              "        vertical-align: middle;\n",
              "    }\n",
              "\n",
              "    .dataframe tbody tr th {\n",
              "        vertical-align: top;\n",
              "    }\n",
              "\n",
              "    .dataframe thead th {\n",
              "        text-align: right;\n",
              "    }\n",
              "</style>\n",
              "<table border=\"1\" class=\"dataframe\">\n",
              "  <thead>\n",
              "    <tr style=\"text-align: right;\">\n",
              "      <th></th>\n",
              "      <th>0</th>\n",
              "      <th>1</th>\n",
              "      <th>2</th>\n",
              "      <th>3</th>\n",
              "      <th>4</th>\n",
              "      <th>5</th>\n",
              "      <th>6</th>\n",
              "      <th>7</th>\n",
              "      <th>8</th>\n",
              "      <th>9</th>\n",
              "      <th>...</th>\n",
              "      <th>1014</th>\n",
              "      <th>1015</th>\n",
              "      <th>1016</th>\n",
              "      <th>1017</th>\n",
              "      <th>1018</th>\n",
              "      <th>1019</th>\n",
              "      <th>1020</th>\n",
              "      <th>1021</th>\n",
              "      <th>1022</th>\n",
              "      <th>1023</th>\n",
              "    </tr>\n",
              "  </thead>\n",
              "  <tbody>\n",
              "    <tr>\n",
              "      <th>0</th>\n",
              "      <td>0</td>\n",
              "      <td>0</td>\n",
              "      <td>0</td>\n",
              "      <td>0</td>\n",
              "      <td>0</td>\n",
              "      <td>0</td>\n",
              "      <td>0</td>\n",
              "      <td>0</td>\n",
              "      <td>0</td>\n",
              "      <td>0</td>\n",
              "      <td>...</td>\n",
              "      <td>0</td>\n",
              "      <td>0</td>\n",
              "      <td>0</td>\n",
              "      <td>0</td>\n",
              "      <td>0</td>\n",
              "      <td>0</td>\n",
              "      <td>0</td>\n",
              "      <td>0</td>\n",
              "      <td>0</td>\n",
              "      <td>0</td>\n",
              "    </tr>\n",
              "    <tr>\n",
              "      <th>1</th>\n",
              "      <td>0</td>\n",
              "      <td>0</td>\n",
              "      <td>0</td>\n",
              "      <td>0</td>\n",
              "      <td>0</td>\n",
              "      <td>0</td>\n",
              "      <td>0</td>\n",
              "      <td>0</td>\n",
              "      <td>0</td>\n",
              "      <td>0</td>\n",
              "      <td>...</td>\n",
              "      <td>0</td>\n",
              "      <td>0</td>\n",
              "      <td>0</td>\n",
              "      <td>0</td>\n",
              "      <td>0</td>\n",
              "      <td>0</td>\n",
              "      <td>0</td>\n",
              "      <td>0</td>\n",
              "      <td>0</td>\n",
              "      <td>0</td>\n",
              "    </tr>\n",
              "    <tr>\n",
              "      <th>2</th>\n",
              "      <td>0</td>\n",
              "      <td>0</td>\n",
              "      <td>0</td>\n",
              "      <td>0</td>\n",
              "      <td>0</td>\n",
              "      <td>0</td>\n",
              "      <td>0</td>\n",
              "      <td>0</td>\n",
              "      <td>0</td>\n",
              "      <td>0</td>\n",
              "      <td>...</td>\n",
              "      <td>0</td>\n",
              "      <td>0</td>\n",
              "      <td>0</td>\n",
              "      <td>0</td>\n",
              "      <td>0</td>\n",
              "      <td>0</td>\n",
              "      <td>0</td>\n",
              "      <td>0</td>\n",
              "      <td>0</td>\n",
              "      <td>0</td>\n",
              "    </tr>\n",
              "    <tr>\n",
              "      <th>3</th>\n",
              "      <td>0</td>\n",
              "      <td>0</td>\n",
              "      <td>0</td>\n",
              "      <td>0</td>\n",
              "      <td>0</td>\n",
              "      <td>0</td>\n",
              "      <td>0</td>\n",
              "      <td>0</td>\n",
              "      <td>0</td>\n",
              "      <td>0</td>\n",
              "      <td>...</td>\n",
              "      <td>0</td>\n",
              "      <td>0</td>\n",
              "      <td>0</td>\n",
              "      <td>0</td>\n",
              "      <td>0</td>\n",
              "      <td>0</td>\n",
              "      <td>0</td>\n",
              "      <td>0</td>\n",
              "      <td>0</td>\n",
              "      <td>0</td>\n",
              "    </tr>\n",
              "    <tr>\n",
              "      <th>4</th>\n",
              "      <td>0</td>\n",
              "      <td>0</td>\n",
              "      <td>0</td>\n",
              "      <td>0</td>\n",
              "      <td>0</td>\n",
              "      <td>0</td>\n",
              "      <td>0</td>\n",
              "      <td>0</td>\n",
              "      <td>0</td>\n",
              "      <td>0</td>\n",
              "      <td>...</td>\n",
              "      <td>0</td>\n",
              "      <td>0</td>\n",
              "      <td>0</td>\n",
              "      <td>0</td>\n",
              "      <td>0</td>\n",
              "      <td>0</td>\n",
              "      <td>0</td>\n",
              "      <td>0</td>\n",
              "      <td>0</td>\n",
              "      <td>0</td>\n",
              "    </tr>\n",
              "  </tbody>\n",
              "</table>\n",
              "<p>5 rows × 1024 columns</p>\n",
              "</div>\n",
              "      <button class=\"colab-df-convert\" onclick=\"convertToInteractive('df-26edd25f-a7f6-4f6d-87cb-b152ce109e8b')\"\n",
              "              title=\"Convert this dataframe to an interactive table.\"\n",
              "              style=\"display:none;\">\n",
              "        \n",
              "  <svg xmlns=\"http://www.w3.org/2000/svg\" height=\"24px\"viewBox=\"0 0 24 24\"\n",
              "       width=\"24px\">\n",
              "    <path d=\"M0 0h24v24H0V0z\" fill=\"none\"/>\n",
              "    <path d=\"M18.56 5.44l.94 2.06.94-2.06 2.06-.94-2.06-.94-.94-2.06-.94 2.06-2.06.94zm-11 1L8.5 8.5l.94-2.06 2.06-.94-2.06-.94L8.5 2.5l-.94 2.06-2.06.94zm10 10l.94 2.06.94-2.06 2.06-.94-2.06-.94-.94-2.06-.94 2.06-2.06.94z\"/><path d=\"M17.41 7.96l-1.37-1.37c-.4-.4-.92-.59-1.43-.59-.52 0-1.04.2-1.43.59L10.3 9.45l-7.72 7.72c-.78.78-.78 2.05 0 2.83L4 21.41c.39.39.9.59 1.41.59.51 0 1.02-.2 1.41-.59l7.78-7.78 2.81-2.81c.8-.78.8-2.07 0-2.86zM5.41 20L4 18.59l7.72-7.72 1.47 1.35L5.41 20z\"/>\n",
              "  </svg>\n",
              "      </button>\n",
              "      \n",
              "  <style>\n",
              "    .colab-df-container {\n",
              "      display:flex;\n",
              "      flex-wrap:wrap;\n",
              "      gap: 12px;\n",
              "    }\n",
              "\n",
              "    .colab-df-convert {\n",
              "      background-color: #E8F0FE;\n",
              "      border: none;\n",
              "      border-radius: 50%;\n",
              "      cursor: pointer;\n",
              "      display: none;\n",
              "      fill: #1967D2;\n",
              "      height: 32px;\n",
              "      padding: 0 0 0 0;\n",
              "      width: 32px;\n",
              "    }\n",
              "\n",
              "    .colab-df-convert:hover {\n",
              "      background-color: #E2EBFA;\n",
              "      box-shadow: 0px 1px 2px rgba(60, 64, 67, 0.3), 0px 1px 3px 1px rgba(60, 64, 67, 0.15);\n",
              "      fill: #174EA6;\n",
              "    }\n",
              "\n",
              "    [theme=dark] .colab-df-convert {\n",
              "      background-color: #3B4455;\n",
              "      fill: #D2E3FC;\n",
              "    }\n",
              "\n",
              "    [theme=dark] .colab-df-convert:hover {\n",
              "      background-color: #434B5C;\n",
              "      box-shadow: 0px 1px 3px 1px rgba(0, 0, 0, 0.15);\n",
              "      filter: drop-shadow(0px 1px 2px rgba(0, 0, 0, 0.3));\n",
              "      fill: #FFFFFF;\n",
              "    }\n",
              "  </style>\n",
              "\n",
              "      <script>\n",
              "        const buttonEl =\n",
              "          document.querySelector('#df-26edd25f-a7f6-4f6d-87cb-b152ce109e8b button.colab-df-convert');\n",
              "        buttonEl.style.display =\n",
              "          google.colab.kernel.accessAllowed ? 'block' : 'none';\n",
              "\n",
              "        async function convertToInteractive(key) {\n",
              "          const element = document.querySelector('#df-26edd25f-a7f6-4f6d-87cb-b152ce109e8b');\n",
              "          const dataTable =\n",
              "            await google.colab.kernel.invokeFunction('convertToInteractive',\n",
              "                                                     [key], {});\n",
              "          if (!dataTable) return;\n",
              "\n",
              "          const docLinkHtml = 'Like what you see? Visit the ' +\n",
              "            '<a target=\"_blank\" href=https://colab.research.google.com/notebooks/data_table.ipynb>data table notebook</a>'\n",
              "            + ' to learn more about interactive tables.';\n",
              "          element.innerHTML = '';\n",
              "          dataTable['output_type'] = 'display_data';\n",
              "          await google.colab.output.renderOutput(dataTable, element);\n",
              "          const docLink = document.createElement('div');\n",
              "          docLink.innerHTML = docLinkHtml;\n",
              "          element.appendChild(docLink);\n",
              "        }\n",
              "      </script>\n",
              "    </div>\n",
              "  </div>\n",
              "  "
            ]
          },
          "metadata": {},
          "execution_count": 14
        }
      ],
      "source": [
        "x_train_ahcd.head()"
      ]
    },
    {
      "cell_type": "code",
      "execution_count": 15,
      "id": "0b3d4d14",
      "metadata": {
        "execution": {
          "iopub.execute_input": "2022-12-30T20:05:31.405871Z",
          "iopub.status.busy": "2022-12-30T20:05:31.405474Z",
          "iopub.status.idle": "2022-12-30T20:05:31.416379Z",
          "shell.execute_reply": "2022-12-30T20:05:31.415121Z"
        },
        "papermill": {
          "duration": 0.043433,
          "end_time": "2022-12-30T20:05:31.420719",
          "exception": false,
          "start_time": "2022-12-30T20:05:31.377286",
          "status": "completed"
        },
        "tags": [],
        "id": "0b3d4d14",
        "outputId": "1bd81737-4d42-4a83-da6a-19ef1dba1be2",
        "colab": {
          "base_uri": "https://localhost:8080/"
        }
      },
      "outputs": [
        {
          "output_type": "execute_result",
          "data": {
            "text/plain": [
              "((13440, 1024), (13440, 1024), (3360, 1024), (3360, 1))"
            ]
          },
          "metadata": {},
          "execution_count": 15
        }
      ],
      "source": [
        "x_train_ahcd.shape , x_train_ahcd.shape , x_test_ahcd.shape , y_test_ahcd.shape"
      ]
    },
    {
      "cell_type": "code",
      "execution_count": 16,
      "id": "6de1db14",
      "metadata": {
        "execution": {
          "iopub.execute_input": "2022-12-30T20:05:31.482525Z",
          "iopub.status.busy": "2022-12-30T20:05:31.481613Z",
          "iopub.status.idle": "2022-12-30T20:05:31.501553Z",
          "shell.execute_reply": "2022-12-30T20:05:31.499965Z"
        },
        "papermill": {
          "duration": 0.054019,
          "end_time": "2022-12-30T20:05:31.505026",
          "exception": false,
          "start_time": "2022-12-30T20:05:31.451007",
          "status": "completed"
        },
        "tags": [],
        "id": "6de1db14"
      },
      "outputs": [],
      "source": [
        "# Converts a class vector (integers) to binary class matrix.\n",
        "y_trian_ahcd_hot = to_categorical(y_train_ahcd) \n",
        "y_test_ahcd_hot = to_categorical(y_test_ahcd)"
      ]
    },
    {
      "cell_type": "code",
      "execution_count": 17,
      "id": "f1c5b32a",
      "metadata": {
        "execution": {
          "iopub.execute_input": "2022-12-30T20:05:31.566290Z",
          "iopub.status.busy": "2022-12-30T20:05:31.565902Z",
          "iopub.status.idle": "2022-12-30T20:05:31.576919Z",
          "shell.execute_reply": "2022-12-30T20:05:31.576109Z"
        },
        "papermill": {
          "duration": 0.043097,
          "end_time": "2022-12-30T20:05:31.579799",
          "exception": false,
          "start_time": "2022-12-30T20:05:31.536702",
          "status": "completed"
        },
        "tags": [],
        "id": "f1c5b32a"
      },
      "outputs": [],
      "source": [
        "# Converts a class vector (integers) to binary class matrix.\n",
        "y_trian_ahcd_hot = to_categorical(y_train_ahcd) \n",
        "y_test_ahcd_hot = to_categorical(y_test_ahcd)"
      ]
    },
    {
      "cell_type": "code",
      "execution_count": 18,
      "id": "b38add5b",
      "metadata": {
        "execution": {
          "iopub.execute_input": "2022-12-30T20:05:31.644723Z",
          "iopub.status.busy": "2022-12-30T20:05:31.644369Z",
          "iopub.status.idle": "2022-12-30T20:05:32.405456Z",
          "shell.execute_reply": "2022-12-30T20:05:32.404475Z"
        },
        "papermill": {
          "duration": 0.800472,
          "end_time": "2022-12-30T20:05:32.408174",
          "exception": false,
          "start_time": "2022-12-30T20:05:31.607702",
          "status": "completed"
        },
        "tags": [],
        "id": "b38add5b"
      },
      "outputs": [],
      "source": [
        "# Converting dataframe to list format\n",
        "# ahcd database\n",
        "x_train_ahcd_list = x_train_ahcd.values.tolist()[1::]\n",
        "x_test_ahcd_list = x_test_ahcd.values.tolist()[1::]\n",
        "y_train_ahcd_list = y_train_ahcd.values.tolist()[1::]\n",
        "y_test_ahcd_list = y_test_ahcd.values.tolist()[1::]"
      ]
    },
    {
      "cell_type": "code",
      "execution_count": 19,
      "id": "0393daa3",
      "metadata": {
        "execution": {
          "iopub.execute_input": "2022-12-30T20:05:32.468825Z",
          "iopub.status.busy": "2022-12-30T20:05:32.468494Z",
          "iopub.status.idle": "2022-12-30T20:05:32.474679Z",
          "shell.execute_reply": "2022-12-30T20:05:32.473858Z"
        },
        "papermill": {
          "duration": 0.038849,
          "end_time": "2022-12-30T20:05:32.477236",
          "exception": false,
          "start_time": "2022-12-30T20:05:32.438387",
          "status": "completed"
        },
        "tags": [],
        "id": "0393daa3"
      },
      "outputs": [],
      "source": [
        "# Reshape the 1024 pixel to 32 * 32\n",
        "x_train_ahcd_reshape = x_train_ahcd.values.reshape(-1,32,32,1)\n",
        "x_test_ahcd_reshape = x_test_ahcd.values.reshape(-1,32,32,1)"
      ]
    },
    {
      "cell_type": "markdown",
      "id": "aabd575c",
      "metadata": {
        "papermill": {
          "duration": 0.020266,
          "end_time": "2022-12-30T20:05:33.511488",
          "exception": false,
          "start_time": "2022-12-30T20:05:33.491222",
          "status": "completed"
        },
        "tags": [],
        "id": "aabd575c"
      },
      "source": [
        "**KNN**\n",
        "\n",
        "---\n",
        "\n"
      ]
    },
    {
      "cell_type": "code",
      "execution_count": 21,
      "id": "6b4b08dc",
      "metadata": {
        "execution": {
          "iopub.execute_input": "2022-12-30T20:05:33.594784Z",
          "iopub.status.busy": "2022-12-30T20:05:33.594442Z",
          "iopub.status.idle": "2022-12-30T20:05:34.367346Z",
          "shell.execute_reply": "2022-12-30T20:05:34.366352Z"
        },
        "papermill": {
          "duration": 0.798206,
          "end_time": "2022-12-30T20:05:34.369794",
          "exception": false,
          "start_time": "2022-12-30T20:05:33.571588",
          "status": "completed"
        },
        "tags": [],
        "id": "6b4b08dc"
      },
      "outputs": [],
      "source": [
        "from sklearn.neighbors import KNeighborsClassifier\n",
        "from sklearn import metrics"
      ]
    },
    {
      "cell_type": "code",
      "execution_count": 22,
      "id": "d3e48aa3",
      "metadata": {
        "execution": {
          "iopub.execute_input": "2022-12-30T20:05:34.413265Z",
          "iopub.status.busy": "2022-12-30T20:05:34.412416Z",
          "iopub.status.idle": "2022-12-30T20:05:37.734985Z",
          "shell.execute_reply": "2022-12-30T20:05:37.734026Z"
        },
        "papermill": {
          "duration": 3.346167,
          "end_time": "2022-12-30T20:05:37.737411",
          "exception": false,
          "start_time": "2022-12-30T20:05:34.391244",
          "status": "completed"
        },
        "tags": [],
        "id": "d3e48aa3"
      },
      "outputs": [],
      "source": [
        "knn_ahcd = KNeighborsClassifier(n_neighbors=7)\n",
        "knn_ahcd.fit(x_train_ahcd_list, y_train_ahcd_list)\n",
        "y_pred_ahcd = knn_ahcd.predict(x_test_ahcd_list)"
      ]
    },
    {
      "cell_type": "markdown",
      "id": "b6f694a5",
      "metadata": {
        "papermill": {
          "duration": 0.020106,
          "end_time": "2022-12-30T20:05:37.781039",
          "exception": false,
          "start_time": "2022-12-30T20:05:37.760933",
          "status": "completed"
        },
        "tags": [],
        "id": "b6f694a5"
      },
      "source": [
        "**Model Evaluation**"
      ]
    },
    {
      "cell_type": "code",
      "execution_count": 23,
      "id": "8e425446",
      "metadata": {
        "execution": {
          "iopub.execute_input": "2022-12-30T20:05:37.824166Z",
          "iopub.status.busy": "2022-12-30T20:05:37.823774Z",
          "iopub.status.idle": "2022-12-30T20:05:37.835220Z",
          "shell.execute_reply": "2022-12-30T20:05:37.834185Z"
        },
        "papermill": {
          "duration": 0.03566,
          "end_time": "2022-12-30T20:05:37.837990",
          "exception": false,
          "start_time": "2022-12-30T20:05:37.802330",
          "status": "completed"
        },
        "tags": [],
        "id": "8e425446",
        "outputId": "e84a7a25-f33d-4d39-b2c3-b5ce230775d1",
        "colab": {
          "base_uri": "https://localhost:8080/"
        }
      },
      "outputs": [
        {
          "output_type": "stream",
          "name": "stdout",
          "text": [
            "AHCD DataBase Accuracy: 0.5132479904733551\n"
          ]
        }
      ],
      "source": [
        "print(\"AHCD DataBase Accuracy:\", metrics.accuracy_score(y_test_ahcd_list, y_pred_ahcd))"
      ]
    },
    {
      "cell_type": "markdown",
      "metadata": {
        "papermill": {
          "duration": 0.020106,
          "end_time": "2022-12-30T20:05:37.781039",
          "exception": false,
          "start_time": "2022-12-30T20:05:37.760933",
          "status": "completed"
        },
        "tags": [],
        "id": "l3klMONOwKma"
      },
      "source": [
        "Supper vector machine \n",
        "\n",
        "---\n",
        "\n"
      ],
      "id": "l3klMONOwKma"
    },
    {
      "cell_type": "code",
      "source": [
        "from sklearn import svm\n",
        "clf = svm.SVC() \n",
        "clf = clf.fit(x_train_ahcd,y_train_ahcd)"
      ],
      "metadata": {
        "id": "P9ycGNR-xJ3H"
      },
      "id": "P9ycGNR-xJ3H",
      "execution_count": 30,
      "outputs": []
    },
    {
      "cell_type": "code",
      "source": [
        "y_pred_ahcd = clf.predict(x_test_ahcd)"
      ],
      "metadata": {
        "id": "QChHWWtixpMj"
      },
      "id": "QChHWWtixpMj",
      "execution_count": 31,
      "outputs": []
    },
    {
      "cell_type": "code",
      "source": [
        "print(\"AHCD DataBase Accuracy:\", metrics.accuracy_score(y_test_ahcd, y_pred_ahcd))"
      ],
      "metadata": {
        "colab": {
          "base_uri": "https://localhost:8080/"
        },
        "id": "87VuDAWtxfB8",
        "outputId": "cb8bcc4b-3bf3-4c93-dbd4-41542a1522c7"
      },
      "id": "87VuDAWtxfB8",
      "execution_count": 33,
      "outputs": [
        {
          "output_type": "stream",
          "name": "stdout",
          "text": [
            "AHCD DataBase Accuracy: 0.6544642857142857\n"
          ]
        }
      ]
    },
    {
      "cell_type": "markdown",
      "source": [
        "**Decision Tree**"
      ],
      "metadata": {
        "id": "RGcuQ9Pvyhe3"
      },
      "id": "RGcuQ9Pvyhe3"
    },
    {
      "cell_type": "code",
      "source": [
        "from sklearn.tree import DecisionTreeClassifier\n",
        "clf = DecisionTreeClassifier()\n",
        "\n",
        "clf = clf.fit(x_train_ahcd,y_train_ahcd)\n",
        "\n",
        "y_pred_ahcd = clf.predict(x_test_ahcd)"
      ],
      "metadata": {
        "id": "qrLeboPEuzDE"
      },
      "id": "qrLeboPEuzDE",
      "execution_count": 26,
      "outputs": []
    },
    {
      "cell_type": "code",
      "source": [
        "print(\"AHCD DataBase Accuracy:\", metrics.accuracy_score(y_test_ahcd, y_pred_ahcd))"
      ],
      "metadata": {
        "colab": {
          "base_uri": "https://localhost:8080/"
        },
        "id": "fKhh7_aSv84d",
        "outputId": "9b501eae-5539-4d02-f5a7-a4d1663eea4e"
      },
      "id": "fKhh7_aSv84d",
      "execution_count": 27,
      "outputs": [
        {
          "output_type": "stream",
          "name": "stdout",
          "text": [
            "AHCD DataBase Accuracy: 0.3574404761904762\n"
          ]
        }
      ]
    },
    {
      "cell_type": "markdown",
      "source": [
        "Naive Bayes"
      ],
      "metadata": {
        "id": "c2uc1kY6yoVf"
      },
      "id": "c2uc1kY6yoVf"
    },
    {
      "cell_type": "code",
      "source": [
        "from sklearn.naive_bayes import GaussianNB\n",
        "gnb = GaussianNB()\n",
        "gnb.fit(x_train_ahcd,y_train_ahcd)"
      ],
      "metadata": {
        "colab": {
          "base_uri": "https://localhost:8080/"
        },
        "id": "4XsVI_PXyrcq",
        "outputId": "329f2a56-0ad3-4a57-fb07-fc1d168a1437"
      },
      "id": "4XsVI_PXyrcq",
      "execution_count": 36,
      "outputs": [
        {
          "output_type": "execute_result",
          "data": {
            "text/plain": [
              "GaussianNB()"
            ]
          },
          "metadata": {},
          "execution_count": 36
        }
      ]
    },
    {
      "cell_type": "code",
      "source": [
        "y_pred_ahcd = gnb.predict(x_test_ahcd)"
      ],
      "metadata": {
        "id": "SbEMepNbzwP7"
      },
      "id": "SbEMepNbzwP7",
      "execution_count": 37,
      "outputs": []
    },
    {
      "cell_type": "code",
      "source": [
        "print(\"AHCD DataBase Accuracy:\", metrics.accuracy_score(y_test_ahcd, y_pred_ahcd))"
      ],
      "metadata": {
        "colab": {
          "base_uri": "https://localhost:8080/"
        },
        "id": "t3NKyLuxzzid",
        "outputId": "742ee81c-f00f-4eda-f69d-bc965c642d66"
      },
      "id": "t3NKyLuxzzid",
      "execution_count": 38,
      "outputs": [
        {
          "output_type": "stream",
          "name": "stdout",
          "text": [
            "AHCD DataBase Accuracy: 0.15029761904761904\n"
          ]
        }
      ]
    },
    {
      "cell_type": "markdown",
      "source": [
        "**Logistic Regression**"
      ],
      "metadata": {
        "id": "PCkHjZTt0u7M"
      },
      "id": "PCkHjZTt0u7M"
    },
    {
      "cell_type": "code",
      "source": [
        "from sklearn.linear_model import LogisticRegression"
      ],
      "metadata": {
        "id": "PeCcAANs0rVh"
      },
      "id": "PeCcAANs0rVh",
      "execution_count": 46,
      "outputs": []
    },
    {
      "cell_type": "code",
      "source": [
        "clf=LogisticRegression()\n",
        "clf.fit(x_train_ahcd,y_train_ahcd)\n",
        "y_pred_ahcd = clf.predict(x_test_ahcd)"
      ],
      "metadata": {
        "id": "X3Hj264y0pzf"
      },
      "id": "X3Hj264y0pzf",
      "execution_count": 49,
      "outputs": []
    },
    {
      "cell_type": "code",
      "source": [
        "print(\"AHCD DataBase Accuracy:\", metrics.accuracy_score(y_test_ahcd, y_pred_ahcd))"
      ],
      "metadata": {
        "colab": {
          "base_uri": "https://localhost:8080/"
        },
        "id": "s6dmJj8518m_",
        "outputId": "8152413e-7f08-4a31-ac09-e7a9109cce87"
      },
      "id": "s6dmJj8518m_",
      "execution_count": 50,
      "outputs": [
        {
          "output_type": "stream",
          "name": "stdout",
          "text": [
            "AHCD DataBase Accuracy: 0.31785714285714284\n"
          ]
        }
      ]
    }
  ],
  "metadata": {
    "kernelspec": {
      "display_name": "Python 3",
      "language": "python",
      "name": "python3"
    },
    "language_info": {
      "codemirror_mode": {
        "name": "ipython",
        "version": 3
      },
      "file_extension": ".py",
      "mimetype": "text/x-python",
      "name": "python",
      "nbconvert_exporter": "python",
      "pygments_lexer": "ipython3",
      "version": "3.7.12"
    },
    "papermill": {
      "default_parameters": {},
      "duration": 6337.212264,
      "end_time": "2022-12-30T21:50:39.491398",
      "environment_variables": {},
      "exception": null,
      "input_path": "__notebook__.ipynb",
      "output_path": "__notebook__.ipynb",
      "parameters": {},
      "start_time": "2022-12-30T20:05:02.279134",
      "version": "2.3.4"
    },
    "colab": {
      "provenance": []
    }
  },
  "nbformat": 4,
  "nbformat_minor": 5
}